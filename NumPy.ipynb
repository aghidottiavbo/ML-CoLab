{
  "nbformat": 4,
  "nbformat_minor": 0,
  "metadata": {
    "colab": {
      "provenance": [],
      "authorship_tag": "ABX9TyNPG5gv/qsn0P1waiZuDDLy",
      "include_colab_link": true
    },
    "kernelspec": {
      "name": "python3",
      "display_name": "Python 3"
    },
    "language_info": {
      "name": "python"
    }
  },
  "cells": [
    {
      "cell_type": "markdown",
      "metadata": {
        "id": "view-in-github",
        "colab_type": "text"
      },
      "source": [
        "<a href=\"https://colab.research.google.com/github/aghidottiavbo/ML-CoLab/blob/main/NumPy.ipynb\" target=\"_parent\"><img src=\"https://colab.research.google.com/assets/colab-badge.svg\" alt=\"Open In Colab\"/></a>"
      ]
    },
    {
      "cell_type": "markdown",
      "source": [
        "For example, here we download and display a PNG image of the Colab logo:"
      ],
      "metadata": {
        "id": "ucD8UA8yUc_7"
      }
    },
    {
      "cell_type": "markdown",
      "source": [
        "#Istruzioni di base"
      ],
      "metadata": {
        "id": "77AQ5YtM2cOS"
      }
    },
    {
      "cell_type": "code",
      "source": [
        "v1 = np.array([1,2,3])\n",
        "print(v1)"
      ],
      "metadata": {
        "colab": {
          "base_uri": "https://localhost:8080/"
        },
        "id": "GKA5aQx_2iuS",
        "outputId": "50ffba7d-2e5d-451c-ac15-b095e617febf"
      },
      "execution_count": null,
      "outputs": [
        {
          "output_type": "stream",
          "name": "stdout",
          "text": [
            "[1 2 3]\n"
          ]
        }
      ]
    },
    {
      "cell_type": "code",
      "source": [
        "v2 = np.array([[1.3, 2.5, 3.7, 4.8],[2.3, 3.5, 4.7, 5.8]])\n",
        "print(v2)"
      ],
      "metadata": {
        "colab": {
          "base_uri": "https://localhost:8080/"
        },
        "id": "q_51mPN9205x",
        "outputId": "282972ab-e719-4e6d-a634-61dba8fd6a68"
      },
      "execution_count": null,
      "outputs": [
        {
          "output_type": "stream",
          "name": "stdout",
          "text": [
            "[[1.3 2.5 3.7 4.8]\n",
            " [2.3 3.5 4.7 5.8]]\n"
          ]
        }
      ]
    },
    {
      "cell_type": "code",
      "source": [
        "v3 = np.array([5, 6, 7], dtype=np.uint8)\n",
        "print(v3)"
      ],
      "metadata": {
        "colab": {
          "base_uri": "https://localhost:8080/"
        },
        "id": "fht5KZwb4m4A",
        "outputId": "9472dba2-c4cf-429a-db01-e61e8f0b154e"
      },
      "execution_count": null,
      "outputs": [
        {
          "output_type": "stream",
          "name": "stdout",
          "text": [
            "[5 6 7]\n"
          ]
        }
      ]
    },
    {
      "cell_type": "code",
      "source": [
        "print(v1.ndim)\n",
        "print(v1.shape)"
      ],
      "metadata": {
        "colab": {
          "base_uri": "https://localhost:8080/"
        },
        "id": "domi9b8n3KeW",
        "outputId": "52665ec2-4a85-43d8-a8fe-a1f717344c45"
      },
      "execution_count": null,
      "outputs": [
        {
          "output_type": "stream",
          "name": "stdout",
          "text": [
            "1\n",
            "(3,)\n"
          ]
        }
      ]
    },
    {
      "cell_type": "code",
      "source": [
        "print(v2.ndim)\n",
        "print(v2.shape)"
      ],
      "metadata": {
        "colab": {
          "base_uri": "https://localhost:8080/"
        },
        "id": "G28NIlXg4ZiL",
        "outputId": "2ab435d5-e779-484b-afb3-71e88a1560f6"
      },
      "execution_count": null,
      "outputs": [
        {
          "output_type": "stream",
          "name": "stdout",
          "text": [
            "2\n",
            "(2, 4)\n"
          ]
        }
      ]
    },
    {
      "cell_type": "code",
      "source": [
        "print(v1.dtype)\n",
        "print(v1.itemsize)\n",
        "print(v1.nbytes)"
      ],
      "metadata": {
        "colab": {
          "base_uri": "https://localhost:8080/"
        },
        "id": "d0u6-HGC3iDA",
        "outputId": "22049dc3-ebba-402f-929c-26458b882bcf"
      },
      "execution_count": null,
      "outputs": [
        {
          "output_type": "stream",
          "name": "stdout",
          "text": [
            "int64\n",
            "8\n",
            "24\n"
          ]
        }
      ]
    },
    {
      "cell_type": "code",
      "source": [
        "print(v2.dtype)\n",
        "print(v2.itemsize)\n",
        "print(v2.nbytes)"
      ],
      "metadata": {
        "colab": {
          "base_uri": "https://localhost:8080/"
        },
        "id": "cITRGPyl39go",
        "outputId": "4612ea08-eb70-47c0-acb0-092bfafdd641"
      },
      "execution_count": null,
      "outputs": [
        {
          "output_type": "stream",
          "name": "stdout",
          "text": [
            "float64\n",
            "8\n",
            "64\n"
          ]
        }
      ]
    },
    {
      "cell_type": "code",
      "source": [
        "print(v3.dtype)\n",
        "print(v3.itemsize)\n",
        "print(v3.nbytes)"
      ],
      "metadata": {
        "colab": {
          "base_uri": "https://localhost:8080/"
        },
        "id": "Z1w_0a6G4zZF",
        "outputId": "ee1678f8-db05-47b5-8f9f-0227894ee7b9"
      },
      "execution_count": null,
      "outputs": [
        {
          "output_type": "stream",
          "name": "stdout",
          "text": [
            "uint8\n",
            "1\n",
            "3\n"
          ]
        }
      ]
    },
    {
      "cell_type": "code",
      "source": [
        "import numpy as np"
      ],
      "metadata": {
        "id": "-xOvsPseUSZD"
      },
      "execution_count": null,
      "outputs": []
    },
    {
      "cell_type": "markdown",
      "source": [
        "# Accesso agli elementi"
      ],
      "metadata": {
        "id": "PfJPa5ey5AWt"
      }
    },
    {
      "cell_type": "code",
      "source": [
        "# Accesso al singolo elemento\n",
        "print(v2)\n",
        "print(v2.shape)\n",
        "print(v2[1,2])"
      ],
      "metadata": {
        "colab": {
          "base_uri": "https://localhost:8080/"
        },
        "id": "LeyS86ks5Hvy",
        "outputId": "2fe46f1a-5ec9-4779-edc8-cefedb5fc49c"
      },
      "execution_count": null,
      "outputs": [
        {
          "output_type": "stream",
          "name": "stdout",
          "text": [
            "[[1.3 2.5 3.7 4.8]\n",
            " [2.3 3.5 4.7 5.8]]\n",
            "(2, 4)\n",
            "4.7\n"
          ]
        }
      ]
    },
    {
      "cell_type": "code",
      "source": [
        "# Accesso ad una specifica riga\n",
        "print( v2[1,:] )\n",
        "\n",
        "# Accesso ad una specifica riga\n",
        "print( v2[:,1] )\n",
        "\n",
        "# Accesso ad un insieme di colonne\n",
        "print( v2[:,1:2] )"
      ],
      "metadata": {
        "colab": {
          "base_uri": "https://localhost:8080/"
        },
        "id": "xhJ8gE345VyO",
        "outputId": "e19e0824-0465-4ced-99fd-81bcebcaddcb"
      },
      "execution_count": null,
      "outputs": [
        {
          "output_type": "stream",
          "name": "stdout",
          "text": [
            "[2.3 3.5 4.7 5.8]\n",
            "[2.5 3.5]\n",
            "[[2.5]\n",
            " [3.5]]\n"
          ]
        }
      ]
    }
  ]
}