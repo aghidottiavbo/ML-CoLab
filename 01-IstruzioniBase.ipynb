{
  "nbformat": 4,
  "nbformat_minor": 0,
  "metadata": {
    "colab": {
      "provenance": [],
      "authorship_tag": "ABX9TyMRaq/UTvdXa0jFumsgtjGP",
      "include_colab_link": true
    },
    "kernelspec": {
      "name": "python3",
      "display_name": "Python 3"
    },
    "language_info": {
      "name": "python"
    }
  },
  "cells": [
    {
      "cell_type": "markdown",
      "metadata": {
        "id": "view-in-github",
        "colab_type": "text"
      },
      "source": [
        "<a href=\"https://colab.research.google.com/github/aghidottiavbo/ML-CoLab/blob/main/01-IstruzioniBase.ipynb\" target=\"_parent\"><img src=\"https://colab.research.google.com/assets/colab-badge.svg\" alt=\"Open In Colab\"/></a>"
      ]
    },
    {
      "cell_type": "markdown",
      "source": [
        "#Istruzioni di base"
      ],
      "metadata": {
        "id": "77AQ5YtM2cOS"
      }
    },
    {
      "cell_type": "code",
      "source": [
        "import numpy as np"
      ],
      "metadata": {
        "id": "O1PhdJEBMsPn"
      },
      "execution_count": 3,
      "outputs": []
    },
    {
      "cell_type": "code",
      "source": [
        "v1 = np.array([1,2,3])\n",
        "print(v1)"
      ],
      "metadata": {
        "colab": {
          "base_uri": "https://localhost:8080/"
        },
        "id": "GKA5aQx_2iuS",
        "outputId": "85113c32-82a1-44c5-e523-aaa66a537e7b"
      },
      "execution_count": 4,
      "outputs": [
        {
          "output_type": "stream",
          "name": "stdout",
          "text": [
            "[1 2 3]\n"
          ]
        }
      ]
    },
    {
      "cell_type": "code",
      "source": [
        "v2 = np.array([[1.3, 2.5, 3.7, 4.8],[2.3, 3.5, 4.7, 5.8]])\n",
        "print(v2)"
      ],
      "metadata": {
        "colab": {
          "base_uri": "https://localhost:8080/"
        },
        "id": "q_51mPN9205x",
        "outputId": "a711a6ca-1492-4c4c-ad39-aa87075840a8"
      },
      "execution_count": 5,
      "outputs": [
        {
          "output_type": "stream",
          "name": "stdout",
          "text": [
            "[[1.3 2.5 3.7 4.8]\n",
            " [2.3 3.5 4.7 5.8]]\n"
          ]
        }
      ]
    },
    {
      "cell_type": "code",
      "source": [
        "v3 = np.array([5, 6, 7], dtype=np.uint8)\n",
        "print(v3)"
      ],
      "metadata": {
        "colab": {
          "base_uri": "https://localhost:8080/"
        },
        "id": "fht5KZwb4m4A",
        "outputId": "cd151499-d32d-4b54-80c1-afc8b84ab656"
      },
      "execution_count": 6,
      "outputs": [
        {
          "output_type": "stream",
          "name": "stdout",
          "text": [
            "[5 6 7]\n"
          ]
        }
      ]
    },
    {
      "cell_type": "code",
      "source": [
        "print(v1.ndim)\n",
        "print(v1.shape)"
      ],
      "metadata": {
        "colab": {
          "base_uri": "https://localhost:8080/"
        },
        "id": "domi9b8n3KeW",
        "outputId": "c8573601-aaef-4f1d-d682-48b7a9383a0f"
      },
      "execution_count": 7,
      "outputs": [
        {
          "output_type": "stream",
          "name": "stdout",
          "text": [
            "1\n",
            "(3,)\n"
          ]
        }
      ]
    },
    {
      "cell_type": "code",
      "source": [
        "print(v2.ndim)\n",
        "print(v2.shape)"
      ],
      "metadata": {
        "colab": {
          "base_uri": "https://localhost:8080/"
        },
        "id": "G28NIlXg4ZiL",
        "outputId": "fb222df4-cb87-4e4c-9f9a-878e2f979c37"
      },
      "execution_count": 8,
      "outputs": [
        {
          "output_type": "stream",
          "name": "stdout",
          "text": [
            "2\n",
            "(2, 4)\n"
          ]
        }
      ]
    },
    {
      "cell_type": "code",
      "source": [
        "print(v1.dtype)\n",
        "print(v1.itemsize)\n",
        "print(v1.nbytes)"
      ],
      "metadata": {
        "colab": {
          "base_uri": "https://localhost:8080/"
        },
        "id": "d0u6-HGC3iDA",
        "outputId": "29db4331-5927-4a1f-98c3-c50ea6861032"
      },
      "execution_count": 9,
      "outputs": [
        {
          "output_type": "stream",
          "name": "stdout",
          "text": [
            "int64\n",
            "8\n",
            "24\n"
          ]
        }
      ]
    },
    {
      "cell_type": "code",
      "source": [
        "print(v2.dtype)\n",
        "print(v2.itemsize)\n",
        "print(v2.nbytes)"
      ],
      "metadata": {
        "colab": {
          "base_uri": "https://localhost:8080/"
        },
        "id": "cITRGPyl39go",
        "outputId": "4735378a-213b-437d-fe3a-9330548310a0"
      },
      "execution_count": 10,
      "outputs": [
        {
          "output_type": "stream",
          "name": "stdout",
          "text": [
            "float64\n",
            "8\n",
            "64\n"
          ]
        }
      ]
    },
    {
      "cell_type": "code",
      "source": [
        "print(v3.dtype)\n",
        "print(v3.itemsize)\n",
        "print(v3.nbytes)"
      ],
      "metadata": {
        "colab": {
          "base_uri": "https://localhost:8080/"
        },
        "id": "Z1w_0a6G4zZF",
        "outputId": "5cf52d22-16ae-49a6-f411-66391f5653cc"
      },
      "execution_count": 11,
      "outputs": [
        {
          "output_type": "stream",
          "name": "stdout",
          "text": [
            "uint8\n",
            "1\n",
            "3\n"
          ]
        }
      ]
    },
    {
      "cell_type": "markdown",
      "source": [
        "# Accesso agli elementi"
      ],
      "metadata": {
        "id": "PfJPa5ey5AWt"
      }
    },
    {
      "cell_type": "code",
      "source": [
        "# Accesso al singolo elemento\n",
        "print(v2)\n",
        "print(v2.shape)\n",
        "print(v2[1,2])"
      ],
      "metadata": {
        "colab": {
          "base_uri": "https://localhost:8080/"
        },
        "id": "LeyS86ks5Hvy",
        "outputId": "19a9cfaa-b61c-44b3-8b1a-13fc42ec033e"
      },
      "execution_count": 13,
      "outputs": [
        {
          "output_type": "stream",
          "name": "stdout",
          "text": [
            "[[1.3 2.5 3.7 4.8]\n",
            " [2.3 3.5 4.7 5.8]]\n",
            "(2, 4)\n",
            "4.7\n"
          ]
        }
      ]
    },
    {
      "cell_type": "code",
      "source": [
        "# Accesso ad una specifica riga\n",
        "print( v2[1,:] )\n",
        "\n",
        "# Accesso ad una specifica riga\n",
        "print( v2[:,1] )\n",
        "\n",
        "# Accesso ad un insieme di colonne\n",
        "print( v2[:,1:2] )"
      ],
      "metadata": {
        "colab": {
          "base_uri": "https://localhost:8080/"
        },
        "id": "xhJ8gE345VyO",
        "outputId": "4849400c-5aea-4f68-a49e-3e921811e30f"
      },
      "execution_count": 14,
      "outputs": [
        {
          "output_type": "stream",
          "name": "stdout",
          "text": [
            "[2.3 3.5 4.7 5.8]\n",
            "[2.5 3.5]\n",
            "[[2.5]\n",
            " [3.5]]\n"
          ]
        }
      ]
    },
    {
      "cell_type": "code",
      "source": [
        "# Accesso sparso\n",
        "v4 = np.array([0, 1, 2, 3, 4, 5, 6, 7, 8, 9])\n",
        "print(v4[1:-1:2])\n",
        "\n",
        "\n",
        "v5 = np.array([[0, 1, 2, 3, 4, 5, 6, 7, 8, 9], [0, 1, 2, 3, 4, 5, 6, 7, 8, 9]])\n",
        "print(v5[:, 1:-1:2])"
      ],
      "metadata": {
        "id": "Y18G8hxtM_18",
        "outputId": "2d5cbf58-fe34-4e71-d0d0-a725dbdef5b5",
        "colab": {
          "base_uri": "https://localhost:8080/"
        }
      },
      "execution_count": 19,
      "outputs": [
        {
          "output_type": "stream",
          "name": "stdout",
          "text": [
            "[1 3 5 7]\n",
            "[[1 3 5 7]\n",
            " [1 3 5 7]]\n"
          ]
        }
      ]
    },
    {
      "cell_type": "code",
      "source": [
        "# Trasposizione\n",
        "print(v4.transpose())"
      ],
      "metadata": {
        "id": "ZKqkdjZSNNOo",
        "outputId": "1e8ef0c6-e5f8-4bab-d263-5a7470cccb44",
        "colab": {
          "base_uri": "https://localhost:8080/"
        }
      },
      "execution_count": 20,
      "outputs": [
        {
          "output_type": "stream",
          "name": "stdout",
          "text": [
            "[0 1 2 3 4 5 6 7 8 9]\n"
          ]
        }
      ]
    }
  ]
}